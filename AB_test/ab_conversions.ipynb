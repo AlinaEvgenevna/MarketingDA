{
 "cells": [
  {
   "cell_type": "markdown",
   "id": "ff23d055",
   "metadata": {
    "id": "Jj720TN9WL9a",
    "papermill": {
     "duration": 0.011004,
     "end_time": "2023-06-02T16:48:13.579282",
     "exception": false,
     "start_time": "2023-06-02T16:48:13.568278",
     "status": "completed"
    },
    "tags": []
   },
   "source": [
    "# A/B Тестирование. Эффективность рекламы\n",
    "\n",
    "\n",
    "Цель этого анализа - проверить, можно ли атрибутировать результаты продаж рекламе. Или же есть основания полагать, что не реклама, а другие факторы влияют на успех/провал кампании. Отличаются ли значимо коэффициенты конверсии группы, которой показывали рекламу и другой (контрольной) групп?\n",
    "\n",
    "\n",
    "---\n",
    "\n",
    "\n",
    "### Какие данные содержатся в таблице? \n",
    "\n",
    "* **User id**.\n",
    "\n",
    "* **Test group**. У нас есть данные по двум группам людей - кому показали рекламу (ad) и кому показали просто публичное объявление (psa).\n",
    "\n",
    "* **Converted**. True or False - приобрел ли участник эксперимента товар или нет. Для каждой группы можно высчитать процент конвертации.\n",
    "\n",
    "* **Total ads**. Сколько раз человек видел рекламу/объявление.\n",
    "\n",
    "* **Most ads day**. В какой день человек видел наибольшее число рекламы/объявлений.\n",
    "\n",
    "* **Most ads hour**. В какой час человек видел наибольшее число рекламы/объявлений.\n"
   ]
  },
  {
   "cell_type": "markdown",
   "id": "4efca730",
   "metadata": {
    "id": "TpvwL9mNb7LC",
    "papermill": {
     "duration": 0.00834,
     "end_time": "2023-06-02T16:48:13.596528",
     "exception": false,
     "start_time": "2023-06-02T16:48:13.588188",
     "status": "completed"
    },
    "tags": []
   },
   "source": [
    "### План \n",
    "\n",
    "1. Импорт библиотек и файлов.\n",
    "2. Просмотр и чистка данных.\n",
    "3. Исследовательский анализ данных. Оценка качества данных для теста.\n",
    "4. Тест\n",
    "   * Выбор теста. \n",
    "   * Проверка условий. \n",
    "   * Тест.\n",
    "   * Оценка теста. Мощность. Практическая значимость.\n",
    "   * Визуализация\n",
    "5. Итог"
   ]
  },
  {
   "cell_type": "markdown",
   "id": "5fe603c8",
   "metadata": {
    "id": "PoFRDqoXcaJn",
    "papermill": {
     "duration": 0.008469,
     "end_time": "2023-06-02T16:48:13.613694",
     "exception": false,
     "start_time": "2023-06-02T16:48:13.605225",
     "status": "completed"
    },
    "tags": []
   },
   "source": [
    "## **1. Импорт библиотек и файлов**"
   ]
  },
  {
   "cell_type": "code",
   "execution_count": 1,
   "id": "c3c87749",
   "metadata": {
    "execution": {
     "iopub.execute_input": "2023-06-02T16:48:13.633034Z",
     "iopub.status.busy": "2023-06-02T16:48:13.632613Z",
     "iopub.status.idle": "2023-06-02T16:48:15.159426Z",
     "shell.execute_reply": "2023-06-02T16:48:15.157961Z"
    },
    "id": "GETdPznbV6XY",
    "papermill": {
     "duration": 1.539425,
     "end_time": "2023-06-02T16:48:15.161973",
     "exception": false,
     "start_time": "2023-06-02T16:48:13.622548",
     "status": "completed"
    },
    "tags": []
   },
   "outputs": [],
   "source": [
    "import pandas as pd\n",
    "import numpy as np\n",
    "import matplotlib.pyplot as plt\n",
    "import seaborn as sns\n",
    "from scipy.stats import norm\n",
    "from statsmodels.stats import power\n",
    "from statsmodels.stats.proportion import proportions_ztest\n",
    "sns.set()"
   ]
  },
  {
   "cell_type": "code",
   "execution_count": 2,
   "id": "f7617a63",
   "metadata": {
    "execution": {
     "iopub.execute_input": "2023-06-02T16:48:15.181593Z",
     "iopub.status.busy": "2023-06-02T16:48:15.181263Z",
     "iopub.status.idle": "2023-06-02T16:48:15.738027Z",
     "shell.execute_reply": "2023-06-02T16:48:15.736915Z"
    },
    "id": "U6AfaCBcdH2R",
    "outputId": "798f7faa-fb52-4f4c-ece0-0dc7546654f3",
    "papermill": {
     "duration": 0.569748,
     "end_time": "2023-06-02T16:48:15.740930",
     "exception": false,
     "start_time": "2023-06-02T16:48:15.171182",
     "status": "completed"
    },
    "tags": []
   },
   "outputs": [
    {
     "data": {
      "text/html": [
       "<div>\n",
       "<style scoped>\n",
       "    .dataframe tbody tr th:only-of-type {\n",
       "        vertical-align: middle;\n",
       "    }\n",
       "\n",
       "    .dataframe tbody tr th {\n",
       "        vertical-align: top;\n",
       "    }\n",
       "\n",
       "    .dataframe thead th {\n",
       "        text-align: right;\n",
       "    }\n",
       "</style>\n",
       "<table border=\"1\" class=\"dataframe\">\n",
       "  <thead>\n",
       "    <tr style=\"text-align: right;\">\n",
       "      <th></th>\n",
       "      <th>Unnamed: 0</th>\n",
       "      <th>user id</th>\n",
       "      <th>test group</th>\n",
       "      <th>converted</th>\n",
       "      <th>total ads</th>\n",
       "      <th>most ads day</th>\n",
       "      <th>most ads hour</th>\n",
       "    </tr>\n",
       "  </thead>\n",
       "  <tbody>\n",
       "    <tr>\n",
       "      <th>0</th>\n",
       "      <td>0</td>\n",
       "      <td>1069124</td>\n",
       "      <td>ad</td>\n",
       "      <td>False</td>\n",
       "      <td>130</td>\n",
       "      <td>Monday</td>\n",
       "      <td>20</td>\n",
       "    </tr>\n",
       "    <tr>\n",
       "      <th>1</th>\n",
       "      <td>1</td>\n",
       "      <td>1119715</td>\n",
       "      <td>ad</td>\n",
       "      <td>False</td>\n",
       "      <td>93</td>\n",
       "      <td>Tuesday</td>\n",
       "      <td>22</td>\n",
       "    </tr>\n",
       "    <tr>\n",
       "      <th>2</th>\n",
       "      <td>2</td>\n",
       "      <td>1144181</td>\n",
       "      <td>ad</td>\n",
       "      <td>False</td>\n",
       "      <td>21</td>\n",
       "      <td>Tuesday</td>\n",
       "      <td>18</td>\n",
       "    </tr>\n",
       "    <tr>\n",
       "      <th>3</th>\n",
       "      <td>3</td>\n",
       "      <td>1435133</td>\n",
       "      <td>ad</td>\n",
       "      <td>False</td>\n",
       "      <td>355</td>\n",
       "      <td>Tuesday</td>\n",
       "      <td>10</td>\n",
       "    </tr>\n",
       "    <tr>\n",
       "      <th>4</th>\n",
       "      <td>4</td>\n",
       "      <td>1015700</td>\n",
       "      <td>ad</td>\n",
       "      <td>False</td>\n",
       "      <td>276</td>\n",
       "      <td>Friday</td>\n",
       "      <td>14</td>\n",
       "    </tr>\n",
       "  </tbody>\n",
       "</table>\n",
       "</div>"
      ],
      "text/plain": [
       "   Unnamed: 0  user id test group  converted  total ads most ads day  \\\n",
       "0           0  1069124         ad      False        130       Monday   \n",
       "1           1  1119715         ad      False         93      Tuesday   \n",
       "2           2  1144181         ad      False         21      Tuesday   \n",
       "3           3  1435133         ad      False        355      Tuesday   \n",
       "4           4  1015700         ad      False        276       Friday   \n",
       "\n",
       "   most ads hour  \n",
       "0             20  \n",
       "1             22  \n",
       "2             18  \n",
       "3             10  \n",
       "4             14  "
      ]
     },
     "execution_count": 2,
     "metadata": {},
     "output_type": "execute_result"
    }
   ],
   "source": [
    "df = pd.read_csv('/kaggle/input/marketing-ab-testing/marketing_AB.csv')\n",
    "df.head()"
   ]
  },
  {
   "cell_type": "markdown",
   "id": "0c0cc8c0",
   "metadata": {
    "id": "pIbeFiYydZpP",
    "papermill": {
     "duration": 0.008863,
     "end_time": "2023-06-02T16:48:15.759378",
     "exception": false,
     "start_time": "2023-06-02T16:48:15.750515",
     "status": "completed"
    },
    "tags": []
   },
   "source": [
    "## **2. Просмотр и чистка данных**"
   ]
  },
  {
   "cell_type": "code",
   "execution_count": 3,
   "id": "689b3606",
   "metadata": {
    "execution": {
     "iopub.execute_input": "2023-06-02T16:48:15.780247Z",
     "iopub.status.busy": "2023-06-02T16:48:15.778933Z",
     "iopub.status.idle": "2023-06-02T16:48:15.956760Z",
     "shell.execute_reply": "2023-06-02T16:48:15.956170Z"
    },
    "papermill": {
     "duration": 0.190064,
     "end_time": "2023-06-02T16:48:15.958563",
     "exception": false,
     "start_time": "2023-06-02T16:48:15.768499",
     "status": "completed"
    },
    "tags": []
   },
   "outputs": [
    {
     "name": "stdout",
     "output_type": "stream",
     "text": [
      "<class 'pandas.core.frame.DataFrame'>\n",
      "RangeIndex: 588101 entries, 0 to 588100\n",
      "Data columns (total 7 columns):\n",
      " #   Column         Non-Null Count   Dtype \n",
      "---  ------         --------------   ----- \n",
      " 0   Unnamed: 0     588101 non-null  int64 \n",
      " 1   user id        588101 non-null  int64 \n",
      " 2   test group     588101 non-null  object\n",
      " 3   converted      588101 non-null  bool  \n",
      " 4   total ads      588101 non-null  int64 \n",
      " 5   most ads day   588101 non-null  object\n",
      " 6   most ads hour  588101 non-null  int64 \n",
      "dtypes: bool(1), int64(4), object(2)\n",
      "memory usage: 27.5+ MB\n"
     ]
    }
   ],
   "source": [
    "df.info()"
   ]
  },
  {
   "cell_type": "code",
   "execution_count": 4,
   "id": "3813a4fa",
   "metadata": {
    "execution": {
     "iopub.execute_input": "2023-06-02T16:48:15.981344Z",
     "iopub.status.busy": "2023-06-02T16:48:15.979725Z",
     "iopub.status.idle": "2023-06-02T16:48:16.001426Z",
     "shell.execute_reply": "2023-06-02T16:48:16.000425Z"
    },
    "id": "OtEYGwg1dZDN",
    "papermill": {
     "duration": 0.034798,
     "end_time": "2023-06-02T16:48:16.003708",
     "exception": false,
     "start_time": "2023-06-02T16:48:15.968910",
     "status": "completed"
    },
    "tags": []
   },
   "outputs": [],
   "source": [
    "#1. удалить первую колонку, дублирующую индекс\n",
    "\n",
    "df = df.drop(columns = ['Unnamed: 0'])\n",
    "\n"
   ]
  },
  {
   "cell_type": "code",
   "execution_count": 5,
   "id": "959607a9",
   "metadata": {
    "execution": {
     "iopub.execute_input": "2023-06-02T16:48:16.024547Z",
     "iopub.status.busy": "2023-06-02T16:48:16.023661Z",
     "iopub.status.idle": "2023-06-02T16:48:16.034780Z",
     "shell.execute_reply": "2023-06-02T16:48:16.033833Z"
    },
    "id": "2NhnjUHrgu_7",
    "outputId": "f46ba808-628b-459c-e8e9-5b9b96cf3696",
    "papermill": {
     "duration": 0.02341,
     "end_time": "2023-06-02T16:48:16.036561",
     "exception": false,
     "start_time": "2023-06-02T16:48:16.013151",
     "status": "completed"
    },
    "tags": []
   },
   "outputs": [
    {
     "data": {
      "text/html": [
       "<div>\n",
       "<style scoped>\n",
       "    .dataframe tbody tr th:only-of-type {\n",
       "        vertical-align: middle;\n",
       "    }\n",
       "\n",
       "    .dataframe tbody tr th {\n",
       "        vertical-align: top;\n",
       "    }\n",
       "\n",
       "    .dataframe thead th {\n",
       "        text-align: right;\n",
       "    }\n",
       "</style>\n",
       "<table border=\"1\" class=\"dataframe\">\n",
       "  <thead>\n",
       "    <tr style=\"text-align: right;\">\n",
       "      <th></th>\n",
       "      <th>user_id</th>\n",
       "      <th>test_group</th>\n",
       "      <th>converted</th>\n",
       "      <th>total_ads</th>\n",
       "      <th>most_ads_day</th>\n",
       "      <th>most_ads_hour</th>\n",
       "    </tr>\n",
       "  </thead>\n",
       "  <tbody>\n",
       "    <tr>\n",
       "      <th>0</th>\n",
       "      <td>1069124</td>\n",
       "      <td>ad</td>\n",
       "      <td>False</td>\n",
       "      <td>130</td>\n",
       "      <td>Monday</td>\n",
       "      <td>20</td>\n",
       "    </tr>\n",
       "    <tr>\n",
       "      <th>1</th>\n",
       "      <td>1119715</td>\n",
       "      <td>ad</td>\n",
       "      <td>False</td>\n",
       "      <td>93</td>\n",
       "      <td>Tuesday</td>\n",
       "      <td>22</td>\n",
       "    </tr>\n",
       "    <tr>\n",
       "      <th>2</th>\n",
       "      <td>1144181</td>\n",
       "      <td>ad</td>\n",
       "      <td>False</td>\n",
       "      <td>21</td>\n",
       "      <td>Tuesday</td>\n",
       "      <td>18</td>\n",
       "    </tr>\n",
       "    <tr>\n",
       "      <th>3</th>\n",
       "      <td>1435133</td>\n",
       "      <td>ad</td>\n",
       "      <td>False</td>\n",
       "      <td>355</td>\n",
       "      <td>Tuesday</td>\n",
       "      <td>10</td>\n",
       "    </tr>\n",
       "    <tr>\n",
       "      <th>4</th>\n",
       "      <td>1015700</td>\n",
       "      <td>ad</td>\n",
       "      <td>False</td>\n",
       "      <td>276</td>\n",
       "      <td>Friday</td>\n",
       "      <td>14</td>\n",
       "    </tr>\n",
       "  </tbody>\n",
       "</table>\n",
       "</div>"
      ],
      "text/plain": [
       "   user_id test_group  converted  total_ads most_ads_day  most_ads_hour\n",
       "0  1069124         ad      False        130       Monday             20\n",
       "1  1119715         ad      False         93      Tuesday             22\n",
       "2  1144181         ad      False         21      Tuesday             18\n",
       "3  1435133         ad      False        355      Tuesday             10\n",
       "4  1015700         ad      False        276       Friday             14"
      ]
     },
     "execution_count": 5,
     "metadata": {},
     "output_type": "execute_result"
    }
   ],
   "source": [
    "#2. поменять названия колонок, убрать пробелы\n",
    "\n",
    "df.columns = df.columns.str.replace(' ', '_')\n",
    "df.head()"
   ]
  },
  {
   "cell_type": "code",
   "execution_count": 6,
   "id": "d32d38db",
   "metadata": {
    "execution": {
     "iopub.execute_input": "2023-06-02T16:48:16.057127Z",
     "iopub.status.busy": "2023-06-02T16:48:16.056767Z",
     "iopub.status.idle": "2023-06-02T16:48:16.215020Z",
     "shell.execute_reply": "2023-06-02T16:48:16.213891Z"
    },
    "id": "Lfq3CrhFiehG",
    "outputId": "28e58574-11ea-4561-f351-1e732ea3f49b",
    "papermill": {
     "duration": 0.171288,
     "end_time": "2023-06-02T16:48:16.217498",
     "exception": false,
     "start_time": "2023-06-02T16:48:16.046210",
     "status": "completed"
    },
    "tags": []
   },
   "outputs": [
    {
     "data": {
      "text/html": [
       "<div>\n",
       "<style scoped>\n",
       "    .dataframe tbody tr th:only-of-type {\n",
       "        vertical-align: middle;\n",
       "    }\n",
       "\n",
       "    .dataframe tbody tr th {\n",
       "        vertical-align: top;\n",
       "    }\n",
       "\n",
       "    .dataframe thead th {\n",
       "        text-align: right;\n",
       "    }\n",
       "</style>\n",
       "<table border=\"1\" class=\"dataframe\">\n",
       "  <thead>\n",
       "    <tr style=\"text-align: right;\">\n",
       "      <th></th>\n",
       "      <th>user_id</th>\n",
       "      <th>test_group</th>\n",
       "      <th>converted</th>\n",
       "      <th>total_ads</th>\n",
       "      <th>most_ads_day</th>\n",
       "      <th>most_ads_hour</th>\n",
       "    </tr>\n",
       "  </thead>\n",
       "  <tbody>\n",
       "  </tbody>\n",
       "</table>\n",
       "</div>"
      ],
      "text/plain": [
       "Empty DataFrame\n",
       "Columns: [user_id, test_group, converted, total_ads, most_ads_day, most_ads_hour]\n",
       "Index: []"
      ]
     },
     "execution_count": 6,
     "metadata": {},
     "output_type": "execute_result"
    }
   ],
   "source": [
    "#3. дубликаты\n",
    "\n",
    "df[df.duplicated()]"
   ]
  },
  {
   "cell_type": "code",
   "execution_count": 7,
   "id": "d6d3d9f9",
   "metadata": {
    "execution": {
     "iopub.execute_input": "2023-06-02T16:48:16.239144Z",
     "iopub.status.busy": "2023-06-02T16:48:16.238796Z",
     "iopub.status.idle": "2023-06-02T16:48:16.408614Z",
     "shell.execute_reply": "2023-06-02T16:48:16.407150Z"
    },
    "id": "HnRnLCO0iuD6",
    "outputId": "46425c62-1027-4457-e628-d86701071bc6",
    "papermill": {
     "duration": 0.183543,
     "end_time": "2023-06-02T16:48:16.411381",
     "exception": false,
     "start_time": "2023-06-02T16:48:16.227838",
     "status": "completed"
    },
    "tags": []
   },
   "outputs": [
    {
     "data": {
      "text/plain": [
       "user_id          0\n",
       "test_group       0\n",
       "converted        0\n",
       "total_ads        0\n",
       "most_ads_day     0\n",
       "most_ads_hour    0\n",
       "dtype: int64"
      ]
     },
     "execution_count": 7,
     "metadata": {},
     "output_type": "execute_result"
    }
   ],
   "source": [
    "#4. пропущенные значения\n",
    "\n",
    "df.isna().sum()"
   ]
  },
  {
   "cell_type": "code",
   "execution_count": 8,
   "id": "93a2d5d4",
   "metadata": {
    "execution": {
     "iopub.execute_input": "2023-06-02T16:48:16.432318Z",
     "iopub.status.busy": "2023-06-02T16:48:16.431942Z",
     "iopub.status.idle": "2023-06-02T16:48:16.459072Z",
     "shell.execute_reply": "2023-06-02T16:48:16.458252Z"
    },
    "id": "WuAG1Zuuh-9g",
    "outputId": "271eba00-b4c7-4c95-e3ef-38fcf56c6780",
    "papermill": {
     "duration": 0.040252,
     "end_time": "2023-06-02T16:48:16.461358",
     "exception": false,
     "start_time": "2023-06-02T16:48:16.421106",
     "status": "completed"
    },
    "tags": []
   },
   "outputs": [
    {
     "data": {
      "text/plain": [
       "count    588101.000000\n",
       "mean         24.820876\n",
       "std          43.715181\n",
       "min           1.000000\n",
       "25%           4.000000\n",
       "50%          13.000000\n",
       "75%          27.000000\n",
       "max        2065.000000\n",
       "Name: total_ads, dtype: float64"
      ]
     },
     "execution_count": 8,
     "metadata": {},
     "output_type": "execute_result"
    }
   ],
   "source": [
    "#5. проверить адекватность содержания числовых коколонок\n",
    "\n",
    "df.total_ads.describe()"
   ]
  },
  {
   "cell_type": "code",
   "execution_count": 9,
   "id": "be3ed494",
   "metadata": {
    "execution": {
     "iopub.execute_input": "2023-06-02T16:48:16.483485Z",
     "iopub.status.busy": "2023-06-02T16:48:16.483151Z",
     "iopub.status.idle": "2023-06-02T16:48:21.963926Z",
     "shell.execute_reply": "2023-06-02T16:48:21.963295Z"
    },
    "id": "Wxx0Y862lIV3",
    "outputId": "db8490b3-c0ff-47cf-d7e2-6787ad5d2c28",
    "papermill": {
     "duration": 5.493625,
     "end_time": "2023-06-02T16:48:21.965650",
     "exception": false,
     "start_time": "2023-06-02T16:48:16.472025",
     "status": "completed"
    },
    "tags": []
   },
   "outputs": [
    {
     "data": {
      "text/plain": [
       "Text(0.5, 1.0, 'Распределение числа показов рекламы/объявлений')"
      ]
     },
     "execution_count": 9,
     "metadata": {},
     "output_type": "execute_result"
    },
    {
     "data": {
      "image/png": "[encoded data removed]",
      "text/plain": [
       "<Figure size 640x480 with 1 Axes>"
      ]
     },
     "metadata": {},
     "output_type": "display_data"
    }
   ],
   "source": [
    "sns.histplot(df.total_ads)\n",
    "plt.title('Распределение числа показов рекламы/объявлений')"
   ]
  },
  {
   "cell_type": "markdown",
   "id": "780bfaa6",
   "metadata": {
    "id": "YIiI5aU9mV8X",
    "papermill": {
     "duration": 0.010067,
     "end_time": "2023-06-02T16:48:21.986179",
     "exception": false,
     "start_time": "2023-06-02T16:48:21.976112",
     "status": "completed"
    },
    "tags": []
   },
   "source": [
    "Странно, что кому-то показывались объявления/реклама 2000 раз в день...\n",
    "Скорее всего, это ошибка."
   ]
  },
  {
   "cell_type": "code",
   "execution_count": 10,
   "id": "579cbe13",
   "metadata": {
    "execution": {
     "iopub.execute_input": "2023-06-02T16:48:22.008322Z",
     "iopub.status.busy": "2023-06-02T16:48:22.007525Z",
     "iopub.status.idle": "2023-06-02T16:48:22.034087Z",
     "shell.execute_reply": "2023-06-02T16:48:22.032806Z"
    },
    "id": "ln0wpBeal6FJ",
    "outputId": "e2d02b10-f161-42ec-a62c-3be7cbd50455",
    "papermill": {
     "duration": 0.040073,
     "end_time": "2023-06-02T16:48:22.036203",
     "exception": false,
     "start_time": "2023-06-02T16:48:21.996130",
     "status": "completed"
    },
    "tags": []
   },
   "outputs": [
    {
     "data": {
      "text/html": [
       "<div>\n",
       "<style scoped>\n",
       "    .dataframe tbody tr th:only-of-type {\n",
       "        vertical-align: middle;\n",
       "    }\n",
       "\n",
       "    .dataframe tbody tr th {\n",
       "        vertical-align: top;\n",
       "    }\n",
       "\n",
       "    .dataframe thead th {\n",
       "        text-align: right;\n",
       "    }\n",
       "</style>\n",
       "<table border=\"1\" class=\"dataframe\">\n",
       "  <thead>\n",
       "    <tr style=\"text-align: right;\">\n",
       "      <th></th>\n",
       "      <th>mean</th>\n",
       "      <th>min</th>\n",
       "      <th>max</th>\n",
       "    </tr>\n",
       "    <tr>\n",
       "      <th>test_group</th>\n",
       "      <th></th>\n",
       "      <th></th>\n",
       "      <th></th>\n",
       "    </tr>\n",
       "  </thead>\n",
       "  <tbody>\n",
       "    <tr>\n",
       "      <th>ad</th>\n",
       "      <td>327.390288</td>\n",
       "      <td>203</td>\n",
       "      <td>2065</td>\n",
       "    </tr>\n",
       "    <tr>\n",
       "      <th>psa</th>\n",
       "      <td>306.180000</td>\n",
       "      <td>203</td>\n",
       "      <td>907</td>\n",
       "    </tr>\n",
       "  </tbody>\n",
       "</table>\n",
       "</div>"
      ],
      "text/plain": [
       "                  mean  min   max\n",
       "test_group                       \n",
       "ad          327.390288  203  2065\n",
       "psa         306.180000  203   907"
      ]
     },
     "execution_count": 10,
     "metadata": {},
     "output_type": "execute_result"
    }
   ],
   "source": [
    "# проверить выбросы\n",
    "df[df.total_ads > df.total_ads.quantile(q=0.99)].groupby('test_group')['total_ads'].agg(['mean', min, max])"
   ]
  },
  {
   "cell_type": "code",
   "execution_count": 11,
   "id": "1ab2c0b2",
   "metadata": {
    "execution": {
     "iopub.execute_input": "2023-06-02T16:48:22.059459Z",
     "iopub.status.busy": "2023-06-02T16:48:22.059146Z",
     "iopub.status.idle": "2023-06-02T16:48:22.115569Z",
     "shell.execute_reply": "2023-06-02T16:48:22.114632Z"
    },
    "id": "tyGgmPNMlSMs",
    "outputId": "07d41d86-7f81-40ef-8751-bf0a39d9f930",
    "papermill": {
     "duration": 0.070124,
     "end_time": "2023-06-02T16:48:22.117628",
     "exception": false,
     "start_time": "2023-06-02T16:48:22.047504",
     "status": "completed"
    },
    "tags": []
   },
   "outputs": [
    {
     "data": {
      "text/plain": [
       "count    582216.000000\n",
       "mean         21.787785\n",
       "std          28.035705\n",
       "min           1.000000\n",
       "25%           4.000000\n",
       "50%          13.000000\n",
       "75%          27.000000\n",
       "max         201.000000\n",
       "Name: total_ads, dtype: float64"
      ]
     },
     "execution_count": 11,
     "metadata": {},
     "output_type": "execute_result"
    }
   ],
   "source": [
    "# убрать выбросы, оставив 99% данных\n",
    "\n",
    "df2 = df[df.total_ads < df.total_ads.quantile(q=0.99)]\n",
    "df2.total_ads.describe()"
   ]
  },
  {
   "cell_type": "code",
   "execution_count": 12,
   "id": "f7a3c2f5",
   "metadata": {
    "execution": {
     "iopub.execute_input": "2023-06-02T16:48:22.145352Z",
     "iopub.status.busy": "2023-06-02T16:48:22.144469Z",
     "iopub.status.idle": "2023-06-02T16:48:23.268474Z",
     "shell.execute_reply": "2023-06-02T16:48:23.266705Z"
    },
    "id": "TGwnhCKRlrlw",
    "outputId": "4c6d7cd2-4c80-4e87-91eb-1c553c0d2330",
    "papermill": {
     "duration": 1.142413,
     "end_time": "2023-06-02T16:48:23.270731",
     "exception": false,
     "start_time": "2023-06-02T16:48:22.128318",
     "status": "completed"
    },
    "tags": []
   },
   "outputs": [
    {
     "data": {
      "text/plain": [
       "Text(0.5, 1.0, 'Распределение числа показов рекламы/объявлений')"
      ]
     },
     "execution_count": 12,
     "metadata": {},
     "output_type": "execute_result"
    },
    {
     "data": {
      "image/png": "[encoded data removed]",
      "text/plain": [
       "<Figure size 640x480 with 1 Axes>"
      ]
     },
     "metadata": {},
     "output_type": "display_data"
    }
   ],
   "source": [
    "sns.histplot(df2.total_ads)\n",
    "plt.title('Распределение числа показов рекламы/объявлений')"
   ]
  },
  {
   "cell_type": "code",
   "execution_count": 13,
   "id": "1422583b",
   "metadata": {
    "execution": {
     "iopub.execute_input": "2023-06-02T16:48:23.295208Z",
     "iopub.status.busy": "2023-06-02T16:48:23.294753Z",
     "iopub.status.idle": "2023-06-02T16:48:23.370991Z",
     "shell.execute_reply": "2023-06-02T16:48:23.369860Z"
    },
    "id": "V1Lf_kZig-z4",
    "outputId": "e65fbc76-04dd-431d-c7fa-28bdbb9c3471",
    "papermill": {
     "duration": 0.090511,
     "end_time": "2023-06-02T16:48:23.372840",
     "exception": false,
     "start_time": "2023-06-02T16:48:23.282329",
     "status": "completed"
    },
    "tags": []
   },
   "outputs": [
    {
     "name": "stdout",
     "output_type": "stream",
     "text": [
      "test_group distribution\n",
      "ad     558946\n",
      "psa     23270\n",
      "Name: test_group, dtype: int64\n",
      "\n",
      "converted distribution\n",
      "False    568292\n",
      "True      13924\n",
      "Name: converted, dtype: int64\n",
      "\n",
      "most_ads_day distribution\n",
      "Friday       91396\n",
      "Monday       86035\n",
      "Sunday       84706\n",
      "Thursday     82185\n",
      "Saturday     80924\n",
      "Wednesday    80089\n",
      "Tuesday      76881\n",
      "Name: most_ads_day, dtype: int64\n",
      "\n",
      "most_ads_hour distribution\n",
      "13    47164\n",
      "12    46729\n",
      "11    45691\n",
      "14    45226\n",
      "15    44168\n",
      "10    38492\n",
      "16    37334\n",
      "17    34675\n",
      "18    31963\n",
      "9     30728\n",
      "19    30010\n",
      "21    29681\n",
      "20    28609\n",
      "22    26264\n",
      "23    20099\n",
      "8     17441\n",
      "7      6290\n",
      "0      5491\n",
      "2      5284\n",
      "1      4764\n",
      "3      2662\n",
      "6      2001\n",
      "5       737\n",
      "4       713\n",
      "Name: most_ads_hour, dtype: int64\n",
      "\n"
     ]
    }
   ],
   "source": [
    "#6. проверить адекватность содержания категориальных коколонок\n",
    "     #NB условно считаать час дня  категорией\n",
    "\n",
    "for col in ['test_group', 'converted', 'most_ads_day', 'most_ads_hour']:\n",
    "    print(col, 'distribution')\n",
    "    print(df2[col].value_counts())\n",
    "    print()"
   ]
  },
  {
   "cell_type": "markdown",
   "id": "f4c326cf",
   "metadata": {
    "id": "O-0-MnEcnnad",
    "papermill": {
     "duration": 0.010959,
     "end_time": "2023-06-02T16:48:23.394928",
     "exception": false,
     "start_time": "2023-06-02T16:48:23.383969",
     "status": "completed"
    },
    "tags": []
   },
   "source": [
    "## **3. Исследовательский анализ данных**"
   ]
  },
  {
   "cell_type": "code",
   "execution_count": 14,
   "id": "abff4754",
   "metadata": {
    "execution": {
     "iopub.execute_input": "2023-06-02T16:48:23.418629Z",
     "iopub.status.busy": "2023-06-02T16:48:23.418135Z",
     "iopub.status.idle": "2023-06-02T16:48:23.429904Z",
     "shell.execute_reply": "2023-06-02T16:48:23.428914Z"
    },
    "id": "ubauh3cQoRYj",
    "outputId": "5b8efce0-e57f-4cda-b655-d3e71aebd00a",
    "papermill": {
     "duration": 0.025804,
     "end_time": "2023-06-02T16:48:23.431779",
     "exception": false,
     "start_time": "2023-06-02T16:48:23.405975",
     "status": "completed"
    },
    "tags": []
   },
   "outputs": [
    {
     "data": {
      "text/plain": [
       "False    0.976084\n",
       "True     0.023916\n",
       "Name: converted, dtype: float64"
      ]
     },
     "execution_count": 14,
     "metadata": {},
     "output_type": "execute_result"
    }
   ],
   "source": [
    "# 1. проверить конверсию\n",
    "\n",
    "df2.converted.value_counts(normalize=True)"
   ]
  },
  {
   "cell_type": "markdown",
   "id": "ba0c9678",
   "metadata": {
    "id": "mazt_ur8rZHG",
    "papermill": {
     "duration": 0.011174,
     "end_time": "2023-06-02T16:48:23.454413",
     "exception": false,
     "start_time": "2023-06-02T16:48:23.443239",
     "status": "completed"
    },
    "tags": []
   },
   "source": [
    "Коэффициент конверсии - около 2,4 %."
   ]
  },
  {
   "cell_type": "code",
   "execution_count": 15,
   "id": "7eb6a02b",
   "metadata": {
    "execution": {
     "iopub.execute_input": "2023-06-02T16:48:23.479826Z",
     "iopub.status.busy": "2023-06-02T16:48:23.479474Z",
     "iopub.status.idle": "2023-06-02T16:48:23.529735Z",
     "shell.execute_reply": "2023-06-02T16:48:23.528541Z"
    },
    "id": "ZAgJ8uktrh5p",
    "outputId": "cd047b1e-e638-4e62-ace4-fd1dec94a4aa",
    "papermill": {
     "duration": 0.064992,
     "end_time": "2023-06-02T16:48:23.531796",
     "exception": false,
     "start_time": "2023-06-02T16:48:23.466804",
     "status": "completed"
    },
    "tags": []
   },
   "outputs": [
    {
     "data": {
      "text/plain": [
       "test_group\n",
       "ad     0.024231\n",
       "psa    0.016330\n",
       "Name: converted, dtype: float64"
      ]
     },
     "execution_count": 15,
     "metadata": {},
     "output_type": "execute_result"
    }
   ],
   "source": [
    "# 2. проверить конверсию по группам\n",
    "\n",
    "df2.groupby('test_group')['converted'].mean()"
   ]
  },
  {
   "cell_type": "code",
   "execution_count": 16,
   "id": "1e9195e1",
   "metadata": {
    "execution": {
     "iopub.execute_input": "2023-06-02T16:48:23.558613Z",
     "iopub.status.busy": "2023-06-02T16:48:23.557716Z",
     "iopub.status.idle": "2023-06-02T16:48:23.906202Z",
     "shell.execute_reply": "2023-06-02T16:48:23.905200Z"
    },
    "id": "-PFfmqNdsCRP",
    "outputId": "212df646-20fc-4161-973a-3e390056f608",
    "papermill": {
     "duration": 0.365555,
     "end_time": "2023-06-02T16:48:23.908553",
     "exception": false,
     "start_time": "2023-06-02T16:48:23.542998",
     "status": "completed"
    },
    "tags": []
   },
   "outputs": [
    {
     "data": {
      "text/plain": [
       "Text(0, 0.5, 'Коэффициент конверсии')"
      ]
     },
     "execution_count": 16,
     "metadata": {},
     "output_type": "execute_result"
    },
    {
     "data": {
      "image/png": "[encoded data removed]",
      "text/plain": [
       "<Figure size 640x480 with 1 Axes>"
      ]
     },
     "metadata": {},
     "output_type": "display_data"
    }
   ],
   "source": [
    "ax = sns.barplot(x=df2.groupby('test_group')['converted'].mean().index,\n",
    "            y=df2.groupby('test_group')['converted'].mean()*100)\n",
    "\n",
    "rects = ax.patches\n",
    "labels = [str(i) + ' %' for i in round(df2.groupby('test_group')['converted'].mean()*100, 2)]\n",
    "\n",
    "for rect, label in zip(rects, labels):\n",
    "    height = rect.get_height()\n",
    "    ax.text(\n",
    "        rect.get_x() + rect.get_width() / 2, height, label, ha=\"center\", va=\"bottom\"\n",
    "    )\n",
    "plt.title('Конверсия в разных группах', va='bottom' )\n",
    "plt.ylabel('Коэффициент конверсии')"
   ]
  },
  {
   "cell_type": "markdown",
   "id": "4deab7a6",
   "metadata": {
    "id": "uSG69cCRwfSz",
    "papermill": {
     "duration": 0.011419,
     "end_time": "2023-06-02T16:48:23.931982",
     "exception": false,
     "start_time": "2023-06-02T16:48:23.920563",
     "status": "completed"
    },
    "tags": []
   },
   "source": [
    "Оценить размер эффекта - расчитать **Cohen's h**."
   ]
  },
  {
   "cell_type": "code",
   "execution_count": 17,
   "id": "b0f4c248",
   "metadata": {
    "execution": {
     "iopub.execute_input": "2023-06-02T16:48:23.957989Z",
     "iopub.status.busy": "2023-06-02T16:48:23.956992Z",
     "iopub.status.idle": "2023-06-02T16:48:24.101690Z",
     "shell.execute_reply": "2023-06-02T16:48:24.100774Z"
    },
    "id": "EmSMjJuuxoaj",
    "outputId": "526caa6c-6b24-4962-acbe-b1b8110438d9",
    "papermill": {
     "duration": 0.160208,
     "end_time": "2023-06-02T16:48:24.103707",
     "exception": false,
     "start_time": "2023-06-02T16:48:23.943499",
     "status": "completed"
    },
    "tags": []
   },
   "outputs": [
    {
     "name": "stdout",
     "output_type": "stream",
     "text": [
      "Размер контрольной группы - 23270\n",
      "Размер тестовой группы - 558946\n",
      "Пропорция (конверсия) контрольной группы - 0.0163\n",
      "Пропорция (конверсия) тестовой группы - 0.0242\n"
     ]
    }
   ],
   "source": [
    "test = df2.test_group == 'ad'\n",
    "control = df2.test_group == 'psa'\n",
    "\n",
    "n_control = len(df2[control])\n",
    "n_test = len(df2[test])\n",
    "p_control = round(df2[control]['converted'].mean(),4)\n",
    "p_test = round(df2[test]['converted'].mean(),4)\n",
    "print(\"Размер контрольной группы -\", n_control)\n",
    "print(\"Размер тестовой группы -\", n_test)\n",
    "print(\"Пропорция (конверсия) контрольной группы -\", p_control)\n",
    "print(\"Пропорция (конверсия) тестовой группы -\", p_test)"
   ]
  },
  {
   "cell_type": "code",
   "execution_count": 18,
   "id": "68f71d9d",
   "metadata": {
    "execution": {
     "iopub.execute_input": "2023-06-02T16:48:24.129731Z",
     "iopub.status.busy": "2023-06-02T16:48:24.128619Z",
     "iopub.status.idle": "2023-06-02T16:48:24.136502Z",
     "shell.execute_reply": "2023-06-02T16:48:24.135444Z"
    },
    "id": "a_3YjcJcwbnz",
    "outputId": "065b4970-29b3-44c5-949b-539528c9570c",
    "papermill": {
     "duration": 0.022849,
     "end_time": "2023-06-02T16:48:24.138538",
     "exception": false,
     "start_time": "2023-06-02T16:48:24.115689",
     "status": "completed"
    },
    "tags": []
   },
   "outputs": [
    {
     "name": "stdout",
     "output_type": "stream",
     "text": [
      "Абсолютная разница в пропорциях:  0.79 %\n",
      "Размер эффекта: 0.06\n",
      "Размер эффекта очень маленький\n"
     ]
    }
   ],
   "source": [
    "# 3. размер эффекта\n",
    "\n",
    "from statsmodels.stats.proportion import proportion_effectsize\n",
    "effect_size = proportion_effectsize(p_control, p_test)\n",
    "\n",
    "delta_p = p_test - p_control\n",
    "print('Абсолютная разница в пропорциях: ', abs(round((delta_p)*100,2)), '%')\n",
    "print('Размер эффекта:', abs(round(effect_size,2)))\n",
    "\n",
    "if effect_size > 0.8:\n",
    "  print('Размер эффекта большой')\n",
    "elif effect_size > 0.5:\n",
    "  print('Размер эффекта средний')\n",
    "elif effect_size > 0.2:\n",
    "  print('Размер эффекта маленький')\n",
    "else:\n",
    "  print('Размер эффекта очень маленький')\n",
    "\n"
   ]
  },
  {
   "cell_type": "markdown",
   "id": "59a6a4be",
   "metadata": {
    "id": "K2uiyd2C1tzu",
    "papermill": {
     "duration": 0.011473,
     "end_time": "2023-06-02T16:48:24.161828",
     "exception": false,
     "start_time": "2023-06-02T16:48:24.150355",
     "status": "completed"
    },
    "tags": []
   },
   "source": [
    "Важно проверить **качество обеих групп**. Нет ли критических различий между группами, которые бы могли влиять на результаты эксперимента, мешая понять обособленную роль рекламы."
   ]
  },
  {
   "cell_type": "code",
   "execution_count": 19,
   "id": "448dd4e3",
   "metadata": {
    "execution": {
     "iopub.execute_input": "2023-06-02T16:48:24.187664Z",
     "iopub.status.busy": "2023-06-02T16:48:24.187316Z",
     "iopub.status.idle": "2023-06-02T16:48:24.233283Z",
     "shell.execute_reply": "2023-06-02T16:48:24.231910Z"
    },
    "id": "3iTWtWhivjXg",
    "outputId": "b6380fcf-99a6-4ca9-8ae6-807902096a44",
    "papermill": {
     "duration": 0.061402,
     "end_time": "2023-06-02T16:48:24.235310",
     "exception": false,
     "start_time": "2023-06-02T16:48:24.173908",
     "status": "completed"
    },
    "tags": []
   },
   "outputs": [
    {
     "data": {
      "text/plain": [
       "test_group\n",
       "ad     21.791137\n",
       "psa    21.707263\n",
       "Name: total_ads, dtype: float64"
      ]
     },
     "execution_count": 19,
     "metadata": {},
     "output_type": "execute_result"
    }
   ],
   "source": [
    "# 4. проверить число показа рекламы/объявлений по группам\n",
    "\n",
    "df2.groupby('test_group')['total_ads'].mean()"
   ]
  },
  {
   "cell_type": "code",
   "execution_count": 20,
   "id": "61832f4e",
   "metadata": {
    "execution": {
     "iopub.execute_input": "2023-06-02T16:48:24.261599Z",
     "iopub.status.busy": "2023-06-02T16:48:24.260797Z",
     "iopub.status.idle": "2023-06-02T16:48:24.813599Z",
     "shell.execute_reply": "2023-06-02T16:48:24.812223Z"
    },
    "id": "RpOWeyNM3XBY",
    "outputId": "b5747125-0d60-4965-9a3a-b59c74c84a76",
    "papermill": {
     "duration": 0.568731,
     "end_time": "2023-06-02T16:48:24.816118",
     "exception": false,
     "start_time": "2023-06-02T16:48:24.247387",
     "status": "completed"
    },
    "tags": []
   },
   "outputs": [
    {
     "data": {
      "text/plain": [
       "<Axes: xlabel='total_ads', ylabel='test_group'>"
      ]
     },
     "execution_count": 20,
     "metadata": {},
     "output_type": "execute_result"
    },
    {
     "data": {
      "image/png": "[encoded data removed]",
      "text/plain": [
       "<Figure size 640x480 with 1 Axes>"
      ]
     },
     "metadata": {},
     "output_type": "display_data"
    }
   ],
   "source": [
    "sns.boxplot(data=df2, y='test_group', x='total_ads', showmeans=True)"
   ]
  },
  {
   "cell_type": "markdown",
   "id": "9ec26c5b",
   "metadata": {
    "id": "lmlKLu-F4FK4",
    "papermill": {
     "duration": 0.012607,
     "end_time": "2023-06-02T16:48:24.841826",
     "exception": false,
     "start_time": "2023-06-02T16:48:24.829219",
     "status": "completed"
    },
    "tags": []
   },
   "source": [
    "Можно считать различия несущественными.\n",
    "\n",
    "\n",
    "---\n",
    "\n"
   ]
  },
  {
   "cell_type": "markdown",
   "id": "da8361e7",
   "metadata": {
    "id": "RbMZRxSeGGfR",
    "papermill": {
     "duration": 0.01261,
     "end_time": "2023-06-02T16:48:24.866871",
     "exception": false,
     "start_time": "2023-06-02T16:48:24.854261",
     "status": "completed"
    },
    "tags": []
   },
   "source": [
    "Колонки с днями и часаами показывают, в какой день/час каждому человку показывалось самое большое количество объявлений."
   ]
  },
  {
   "cell_type": "code",
   "execution_count": 21,
   "id": "6a01dcaf",
   "metadata": {
    "execution": {
     "iopub.execute_input": "2023-06-02T16:48:24.892691Z",
     "iopub.status.busy": "2023-06-02T16:48:24.892361Z",
     "iopub.status.idle": "2023-06-02T16:48:25.049174Z",
     "shell.execute_reply": "2023-06-02T16:48:25.047528Z"
    },
    "id": "ujBYaITY8rOs",
    "outputId": "728a60f2-b61f-420a-a1c8-b757b9a26a03",
    "papermill": {
     "duration": 0.172611,
     "end_time": "2023-06-02T16:48:25.051528",
     "exception": false,
     "start_time": "2023-06-02T16:48:24.878917",
     "status": "completed"
    },
    "tags": []
   },
   "outputs": [
    {
     "data": {
      "text/html": [
       "<div>\n",
       "<style scoped>\n",
       "    .dataframe tbody tr th:only-of-type {\n",
       "        vertical-align: middle;\n",
       "    }\n",
       "\n",
       "    .dataframe tbody tr th {\n",
       "        vertical-align: top;\n",
       "    }\n",
       "\n",
       "    .dataframe thead th {\n",
       "        text-align: right;\n",
       "    }\n",
       "</style>\n",
       "<table border=\"1\" class=\"dataframe\">\n",
       "  <thead>\n",
       "    <tr style=\"text-align: right;\">\n",
       "      <th>most_ads_day</th>\n",
       "      <th>Friday</th>\n",
       "      <th>Monday</th>\n",
       "      <th>Saturday</th>\n",
       "      <th>Sunday</th>\n",
       "      <th>Thursday</th>\n",
       "      <th>Tuesday</th>\n",
       "      <th>Wednesday</th>\n",
       "    </tr>\n",
       "    <tr>\n",
       "      <th>test_group</th>\n",
       "      <th></th>\n",
       "      <th></th>\n",
       "      <th></th>\n",
       "      <th></th>\n",
       "      <th></th>\n",
       "      <th></th>\n",
       "      <th></th>\n",
       "    </tr>\n",
       "  </thead>\n",
       "  <tbody>\n",
       "    <tr>\n",
       "      <th>ad</th>\n",
       "      <td>15.73</td>\n",
       "      <td>14.80</td>\n",
       "      <td>13.96</td>\n",
       "      <td>14.58</td>\n",
       "      <td>14.01</td>\n",
       "      <td>13.21</td>\n",
       "      <td>13.71</td>\n",
       "    </tr>\n",
       "    <tr>\n",
       "      <th>psa</th>\n",
       "      <td>16.17</td>\n",
       "      <td>14.89</td>\n",
       "      <td>12.15</td>\n",
       "      <td>13.00</td>\n",
       "      <td>16.60</td>\n",
       "      <td>12.36</td>\n",
       "      <td>14.84</td>\n",
       "    </tr>\n",
       "  </tbody>\n",
       "</table>\n",
       "</div>"
      ],
      "text/plain": [
       "most_ads_day  Friday  Monday  Saturday  Sunday  Thursday  Tuesday  Wednesday\n",
       "test_group                                                                  \n",
       "ad             15.73   14.80     13.96   14.58     14.01    13.21      13.71\n",
       "psa            16.17   14.89     12.15   13.00     16.60    12.36      14.84"
      ]
     },
     "execution_count": 21,
     "metadata": {},
     "output_type": "execute_result"
    }
   ],
   "source": [
    "# 5. проверить время показа (дни)\n",
    "# Распределение по дням и группам (%)\n",
    "\n",
    "round(pd.crosstab(df.test_group, df.most_ads_day, normalize='index') * 100, 2)"
   ]
  },
  {
   "cell_type": "code",
   "execution_count": 22,
   "id": "2fa1b60d",
   "metadata": {
    "execution": {
     "iopub.execute_input": "2023-06-02T16:48:25.079901Z",
     "iopub.status.busy": "2023-06-02T16:48:25.079482Z",
     "iopub.status.idle": "2023-06-02T16:48:25.199455Z",
     "shell.execute_reply": "2023-06-02T16:48:25.198376Z"
    },
    "id": "rgzzPJDZ2Nbx",
    "outputId": "77955306-5f2e-44fb-bc8f-842407ca5532",
    "papermill": {
     "duration": 0.137027,
     "end_time": "2023-06-02T16:48:25.201384",
     "exception": false,
     "start_time": "2023-06-02T16:48:25.064357",
     "status": "completed"
    },
    "tags": []
   },
   "outputs": [
    {
     "data": {
      "text/html": [
       "<div>\n",
       "<style scoped>\n",
       "    .dataframe tbody tr th:only-of-type {\n",
       "        vertical-align: middle;\n",
       "    }\n",
       "\n",
       "    .dataframe tbody tr th {\n",
       "        vertical-align: top;\n",
       "    }\n",
       "\n",
       "    .dataframe thead th {\n",
       "        text-align: right;\n",
       "    }\n",
       "</style>\n",
       "<table border=\"1\" class=\"dataframe\">\n",
       "  <thead>\n",
       "    <tr style=\"text-align: right;\">\n",
       "      <th>most_ads_hour</th>\n",
       "      <th>0</th>\n",
       "      <th>1</th>\n",
       "      <th>2</th>\n",
       "      <th>3</th>\n",
       "      <th>4</th>\n",
       "      <th>5</th>\n",
       "      <th>6</th>\n",
       "      <th>7</th>\n",
       "      <th>8</th>\n",
       "      <th>9</th>\n",
       "      <th>...</th>\n",
       "      <th>14</th>\n",
       "      <th>15</th>\n",
       "      <th>16</th>\n",
       "      <th>17</th>\n",
       "      <th>18</th>\n",
       "      <th>19</th>\n",
       "      <th>20</th>\n",
       "      <th>21</th>\n",
       "      <th>22</th>\n",
       "      <th>23</th>\n",
       "    </tr>\n",
       "    <tr>\n",
       "      <th>test_group</th>\n",
       "      <th></th>\n",
       "      <th></th>\n",
       "      <th></th>\n",
       "      <th></th>\n",
       "      <th></th>\n",
       "      <th></th>\n",
       "      <th></th>\n",
       "      <th></th>\n",
       "      <th></th>\n",
       "      <th></th>\n",
       "      <th></th>\n",
       "      <th></th>\n",
       "      <th></th>\n",
       "      <th></th>\n",
       "      <th></th>\n",
       "      <th></th>\n",
       "      <th></th>\n",
       "      <th></th>\n",
       "      <th></th>\n",
       "      <th></th>\n",
       "      <th></th>\n",
       "    </tr>\n",
       "  </thead>\n",
       "  <tbody>\n",
       "    <tr>\n",
       "      <th>ad</th>\n",
       "      <td>0.94</td>\n",
       "      <td>0.82</td>\n",
       "      <td>0.91</td>\n",
       "      <td>0.46</td>\n",
       "      <td>0.12</td>\n",
       "      <td>0.13</td>\n",
       "      <td>0.35</td>\n",
       "      <td>1.09</td>\n",
       "      <td>3.01</td>\n",
       "      <td>5.28</td>\n",
       "      <td>...</td>\n",
       "      <td>7.75</td>\n",
       "      <td>7.59</td>\n",
       "      <td>6.37</td>\n",
       "      <td>5.95</td>\n",
       "      <td>5.5</td>\n",
       "      <td>5.17</td>\n",
       "      <td>4.93</td>\n",
       "      <td>5.12</td>\n",
       "      <td>4.52</td>\n",
       "      <td>3.46</td>\n",
       "    </tr>\n",
       "    <tr>\n",
       "      <th>psa</th>\n",
       "      <td>0.96</td>\n",
       "      <td>0.79</td>\n",
       "      <td>0.77</td>\n",
       "      <td>0.38</td>\n",
       "      <td>0.12</td>\n",
       "      <td>0.10</td>\n",
       "      <td>0.35</td>\n",
       "      <td>1.01</td>\n",
       "      <td>2.80</td>\n",
       "      <td>5.11</td>\n",
       "      <td>...</td>\n",
       "      <td>7.95</td>\n",
       "      <td>7.77</td>\n",
       "      <td>6.82</td>\n",
       "      <td>5.88</td>\n",
       "      <td>5.4</td>\n",
       "      <td>5.03</td>\n",
       "      <td>4.58</td>\n",
       "      <td>4.60</td>\n",
       "      <td>3.90</td>\n",
       "      <td>2.63</td>\n",
       "    </tr>\n",
       "  </tbody>\n",
       "</table>\n",
       "<p>2 rows × 24 columns</p>\n",
       "</div>"
      ],
      "text/plain": [
       "most_ads_hour    0     1     2     3     4     5     6     7     8     9   \\\n",
       "test_group                                                                  \n",
       "ad             0.94  0.82  0.91  0.46  0.12  0.13  0.35  1.09  3.01  5.28   \n",
       "psa            0.96  0.79  0.77  0.38  0.12  0.10  0.35  1.01  2.80  5.11   \n",
       "\n",
       "most_ads_hour  ...    14    15    16    17   18    19    20    21    22    23  \n",
       "test_group     ...                                                             \n",
       "ad             ...  7.75  7.59  6.37  5.95  5.5  5.17  4.93  5.12  4.52  3.46  \n",
       "psa            ...  7.95  7.77  6.82  5.88  5.4  5.03  4.58  4.60  3.90  2.63  \n",
       "\n",
       "[2 rows x 24 columns]"
      ]
     },
     "execution_count": 22,
     "metadata": {},
     "output_type": "execute_result"
    }
   ],
   "source": [
    "# 6. проверить время показа (часы)\n",
    "\n",
    "# Распределение по часам и группам (%)\n",
    "\n",
    "round(pd.crosstab(df.test_group, df.most_ads_hour, normalize='index') * 100, 2)"
   ]
  },
  {
   "cell_type": "markdown",
   "id": "016b932e",
   "metadata": {
    "id": "7holyl5C-PzO",
    "papermill": {
     "duration": 0.012506,
     "end_time": "2023-06-02T16:48:25.226681",
     "exception": false,
     "start_time": "2023-06-02T16:48:25.214175",
     "status": "completed"
    },
    "tags": []
   },
   "source": [
    "Можно считать, что обе группы приципиально не отличаются по времени показа рекламы ил объявлений."
   ]
  },
  {
   "cell_type": "markdown",
   "id": "dd6389d8",
   "metadata": {
    "id": "5oBh-yPy-X35",
    "papermill": {
     "duration": 0.012149,
     "end_time": "2023-06-02T16:48:25.251259",
     "exception": false,
     "start_time": "2023-06-02T16:48:25.239110",
     "status": "completed"
    },
    "tags": []
   },
   "source": [
    "## **4. Тест**\n",
    "\n",
    "1. Условия нормальности для валидного Z теста двух пропорций\n",
    "2. Размеры выборок, достаточность размеров\n",
    "3. Гипотеза и Тест\n",
    "4. Мощность эксперимента\n",
    "5. Визуализация эксперимента"
   ]
  },
  {
   "cell_type": "markdown",
   "id": "02e41974",
   "metadata": {
    "id": "3eFP_oYcO-8L",
    "papermill": {
     "duration": 0.012107,
     "end_time": "2023-06-02T16:48:25.275612",
     "exception": false,
     "start_time": "2023-06-02T16:48:25.263505",
     "status": "completed"
    },
    "tags": []
   },
   "source": [
    "### (1) Условия для валидного теста"
   ]
  },
  {
   "cell_type": "code",
   "execution_count": 23,
   "id": "e4ffacd4",
   "metadata": {
    "execution": {
     "iopub.execute_input": "2023-06-02T16:48:25.303180Z",
     "iopub.status.busy": "2023-06-02T16:48:25.302628Z",
     "iopub.status.idle": "2023-06-02T16:48:25.308230Z",
     "shell.execute_reply": "2023-06-02T16:48:25.307406Z"
    },
    "id": "Y237tnY7PD9f",
    "outputId": "8b147193-d4bb-4add-c81b-8b1c4afbaa6b",
    "papermill": {
     "duration": 0.021889,
     "end_time": "2023-06-02T16:48:25.310305",
     "exception": false,
     "start_time": "2023-06-02T16:48:25.288416",
     "status": "completed"
    },
    "tags": []
   },
   "outputs": [
    {
     "name": "stdout",
     "output_type": "stream",
     "text": [
      "Мы можем аппроксимировать наши биномиальные распределения нормальными\n"
     ]
    }
   ],
   "source": [
    "#в каждой группе каждого исхода должно быть более 10\n",
    "\n",
    "cond1 = (n_control)*p_control > 10\n",
    "cond2 = (n_control)*(1 - p_control) > 10\n",
    "cond3 = (n_test)*p_test > 10\n",
    "cond4 = (n_test)*(1 - p_test) > 10\n",
    "\n",
    "if cond1 & cond2 & cond3 & cond4:\n",
    "  print('Мы можем аппроксимировать наши биномиальные распределения нормальными')\n",
    "else:\n",
    "  print('Мы НЕ можем аппроксимировать наши биномиальные распределения нормальными')"
   ]
  },
  {
   "cell_type": "markdown",
   "id": "d759334a",
   "metadata": {
    "id": "f9TrtlZS3y69",
    "papermill": {
     "duration": 0.012379,
     "end_time": "2023-06-02T16:48:25.335737",
     "exception": false,
     "start_time": "2023-06-02T16:48:25.323358",
     "status": "completed"
    },
    "tags": []
   },
   "source": [
    "### (2) Размер выборок"
   ]
  },
  {
   "cell_type": "code",
   "execution_count": 24,
   "id": "ec084a7f",
   "metadata": {
    "execution": {
     "iopub.execute_input": "2023-06-02T16:48:25.363505Z",
     "iopub.status.busy": "2023-06-02T16:48:25.363175Z",
     "iopub.status.idle": "2023-06-02T16:48:25.399172Z",
     "shell.execute_reply": "2023-06-02T16:48:25.398122Z"
    },
    "id": "E2bULmxA-gLq",
    "outputId": "e3255ae2-e8bb-442c-827f-af099bd7e6c2",
    "papermill": {
     "duration": 0.05191,
     "end_time": "2023-06-02T16:48:25.400945",
     "exception": false,
     "start_time": "2023-06-02T16:48:25.349035",
     "status": "completed"
    },
    "tags": []
   },
   "outputs": [
    {
     "data": {
      "text/plain": [
       "ad     558946\n",
       "psa     23270\n",
       "Name: test_group, dtype: int64"
      ]
     },
     "execution_count": 24,
     "metadata": {},
     "output_type": "execute_result"
    }
   ],
   "source": [
    "# 1. Размеры выборок. Еще раз посмотрим на группы\n",
    "\n",
    "df2.test_group.value_counts()"
   ]
  },
  {
   "cell_type": "code",
   "execution_count": 25,
   "id": "c1de8f62",
   "metadata": {
    "execution": {
     "iopub.execute_input": "2023-06-02T16:48:25.428412Z",
     "iopub.status.busy": "2023-06-02T16:48:25.427817Z",
     "iopub.status.idle": "2023-06-02T16:48:25.446678Z",
     "shell.execute_reply": "2023-06-02T16:48:25.445171Z"
    },
    "id": "NdU_B4FHjyKn",
    "outputId": "d834a68d-f3e4-4332-d2a8-f8e869172d1b",
    "papermill": {
     "duration": 0.035035,
     "end_time": "2023-06-02T16:48:25.448909",
     "exception": false,
     "start_time": "2023-06-02T16:48:25.413874",
     "status": "completed"
    },
    "tags": []
   },
   "outputs": [
    {
     "name": "stdout",
     "output_type": "stream",
     "text": [
      "4944\n"
     ]
    },
    {
     "name": "stderr",
     "output_type": "stream",
     "text": [
      "/opt/conda/lib/python3.10/site-packages/scipy/stats/_continuous_distns.py:6832: RuntimeWarning: invalid value encountered in _nct_sf\n",
      "  return np.clip(_boost._nct_sf(x, df, nc), 0, 1)\n",
      "/opt/conda/lib/python3.10/site-packages/scipy/stats/_continuous_distns.py:6826: RuntimeWarning: invalid value encountered in _nct_cdf\n",
      "  return np.clip(_boost._nct_cdf(x, df, nc), 0, 1)\n"
     ]
    }
   ],
   "source": [
    "# 2. Какого размера выборок было бы достаточно?\n",
    "alpha = 0.05\n",
    "beta = 0.2 #желаемая\n",
    "\n",
    "sample_size = power.TTestIndPower().solve_power(effect_size=effect_size, alpha=alpha, power=1-beta, nobs1= None)\n",
    "print(round(sample_size))"
   ]
  },
  {
   "cell_type": "markdown",
   "id": "aefddf09",
   "metadata": {
    "id": "jf9aiftopUVN",
    "papermill": {
     "duration": 0.012303,
     "end_time": "2023-06-02T16:48:25.474088",
     "exception": false,
     "start_time": "2023-06-02T16:48:25.461785",
     "status": "completed"
    },
    "tags": []
   },
   "source": [
    "Наш размер превосходит достаточный для определение данного эффекта. В очень много раз. Это значит, что есть большой шанс получить разницу, которая **статистичски значимая, но практически - незначимая**."
   ]
  },
  {
   "cell_type": "markdown",
   "id": "14a1fe35",
   "metadata": {
    "id": "lFOoX4ZwXAgZ",
    "papermill": {
     "duration": 0.012307,
     "end_time": "2023-06-02T16:48:25.499940",
     "exception": false,
     "start_time": "2023-06-02T16:48:25.487633",
     "status": "completed"
    },
    "tags": []
   },
   "source": [
    "### (3) Гипотеза"
   ]
  },
  {
   "cell_type": "markdown",
   "id": "8519b36a",
   "metadata": {
    "id": "W83NGGBvTvBE",
    "papermill": {
     "duration": 0.01238,
     "end_time": "2023-06-02T16:48:25.525421",
     "exception": false,
     "start_time": "2023-06-02T16:48:25.513041",
     "status": "completed"
    },
    "tags": []
   },
   "source": [
    "Двусторонний тест:\n",
    "\n",
    "*   Нулевая гипотеза **Hₒ: p2 - p1 = 0** .\n",
    "*   Альтернативная гипотеза **Hₐ: p2 - p1  ≠ 0**\n",
    "\n",
    "\n",
    "---\n",
    "* alpha = 0.05"
   ]
  },
  {
   "cell_type": "code",
   "execution_count": 26,
   "id": "c7cf7783",
   "metadata": {
    "execution": {
     "iopub.execute_input": "2023-06-02T16:48:25.553069Z",
     "iopub.status.busy": "2023-06-02T16:48:25.551686Z",
     "iopub.status.idle": "2023-06-02T16:48:25.656450Z",
     "shell.execute_reply": "2023-06-02T16:48:25.655588Z"
    },
    "id": "LiY8jvP5b3Zr",
    "outputId": "c8aad4d5-a32a-491b-8abd-51585bd96434",
    "papermill": {
     "duration": 0.120417,
     "end_time": "2023-06-02T16:48:25.658355",
     "exception": false,
     "start_time": "2023-06-02T16:48:25.537938",
     "status": "completed"
    },
    "tags": []
   },
   "outputs": [
    {
     "name": "stdout",
     "output_type": "stream",
     "text": [
      "z = -7.729563914889429\n",
      "p-value = 1.0791561749201039e-14\n"
     ]
    }
   ],
   "source": [
    "test = df2[df2.test_group == 'ad']['converted'].sum() \n",
    "control = df2[df2.test_group == 'psa']['converted'].sum()\n",
    "\n",
    "z_stat, p_value = proportions_ztest([control, test], nobs=[n_control, n_test] ,\n",
    "                                  alternative='two-sided')\n",
    "print('z =', z_stat)\n",
    "print('p-value =', p_value)"
   ]
  },
  {
   "cell_type": "markdown",
   "id": "82f02f8b",
   "metadata": {
    "id": "MVajGLozdzJT",
    "papermill": {
     "duration": 0.012988,
     "end_time": "2023-06-02T16:48:25.684524",
     "exception": false,
     "start_time": "2023-06-02T16:48:25.671536",
     "status": "completed"
    },
    "tags": []
   },
   "source": [
    "### (4) Мощность эксперимента"
   ]
  },
  {
   "cell_type": "code",
   "execution_count": 27,
   "id": "1fa0f8bc",
   "metadata": {
    "execution": {
     "iopub.execute_input": "2023-06-02T16:48:25.713888Z",
     "iopub.status.busy": "2023-06-02T16:48:25.712946Z",
     "iopub.status.idle": "2023-06-02T16:48:25.720092Z",
     "shell.execute_reply": "2023-06-02T16:48:25.718723Z"
    },
    "id": "O8C7lh07qHOL",
    "outputId": "221b8af1-e88a-4343-9d7c-4be871326579",
    "papermill": {
     "duration": 0.02419,
     "end_time": "2023-06-02T16:48:25.722094",
     "exception": false,
     "start_time": "2023-06-02T16:48:25.697904",
     "status": "completed"
    },
    "tags": []
   },
   "outputs": [
    {
     "name": "stdout",
     "output_type": "stream",
     "text": [
      "1\n"
     ]
    }
   ],
   "source": [
    "# Мощность\n",
    "# Вероятность отклонить нулевую гипотезу, когда она действительно неверна\n",
    "\n",
    "ratio = n_test/n_control\n",
    "\n",
    "test_power = power.TTestIndPower().solve_power(effect_size=effect_size, alpha=0.05, \n",
    "                                                power=None, nobs1= n_control, ratio=ratio)\n",
    "print(round(test_power))"
   ]
  },
  {
   "cell_type": "markdown",
   "id": "110bdd28",
   "metadata": {
    "id": "xQu8S_RxfWB4",
    "papermill": {
     "duration": 0.013206,
     "end_time": "2023-06-02T16:48:25.750108",
     "exception": false,
     "start_time": "2023-06-02T16:48:25.736902",
     "status": "completed"
    },
    "tags": []
   },
   "source": [
    "### (5) Визуализация аппроксимации разницы пропорций"
   ]
  },
  {
   "cell_type": "code",
   "execution_count": 28,
   "id": "0585c4a2",
   "metadata": {
    "execution": {
     "iopub.execute_input": "2023-06-02T16:48:25.778193Z",
     "iopub.status.busy": "2023-06-02T16:48:25.777718Z",
     "iopub.status.idle": "2023-06-02T16:48:25.786422Z",
     "shell.execute_reply": "2023-06-02T16:48:25.785114Z"
    },
    "id": "lIsoX5a-XcXi",
    "outputId": "6bb336ff-71ff-4fc1-ffd6-5b31eefa5b9a",
    "papermill": {
     "duration": 0.025048,
     "end_time": "2023-06-02T16:48:25.788454",
     "exception": false,
     "start_time": "2023-06-02T16:48:25.763406",
     "status": "completed"
    },
    "tags": []
   },
   "outputs": [
    {
     "name": "stdout",
     "output_type": "stream",
     "text": [
      "Общая объединенная доля = 0.024\n",
      "Общая объединенная стандартная ошибка = 0.001\n",
      "Критические значения =  -0.002 и 0.002\n",
      "Наблюдаемая разница = 0.0079\n"
     ]
    }
   ],
   "source": [
    "# Визуализация\n",
    "\n",
    "p_pooled = round((n_control * p_control + n_test * p_test)/(n_control + n_test),3)\n",
    "se = round(np.sqrt(p_pooled*(1 - p_pooled) * (1/n_control + 1/n_test)),3)\n",
    "mu_delta = 0\n",
    "cutoff_left = round(norm.ppf(alpha/2, loc=mu_delta, scale=se),3)\n",
    "cutoff_right = round(norm.ppf(1 - alpha/2, loc=mu_delta, scale=se),3)\n",
    "delta = p_test - p_control\n",
    "\n",
    "print('Общая объединенная доля =', p_pooled)\n",
    "print('Общая объединенная стандартная ошибка =', se)\n",
    "print('Критические значения = ', cutoff_left, 'и', cutoff_right)\n",
    "print('Наблюдаемая разница =', delta)"
   ]
  },
  {
   "cell_type": "code",
   "execution_count": 29,
   "id": "8b0c548f",
   "metadata": {
    "execution": {
     "iopub.execute_input": "2023-06-02T16:48:25.816650Z",
     "iopub.status.busy": "2023-06-02T16:48:25.816281Z",
     "iopub.status.idle": "2023-06-02T16:48:26.145541Z",
     "shell.execute_reply": "2023-06-02T16:48:26.144369Z"
    },
    "id": "gOl3mLO0fVRZ",
    "outputId": "9952ef73-7706-484c-9021-9e63cbc362e8",
    "papermill": {
     "duration": 0.34623,
     "end_time": "2023-06-02T16:48:26.147805",
     "exception": false,
     "start_time": "2023-06-02T16:48:25.801575",
     "status": "completed"
    },
    "tags": []
   },
   "outputs": [
    {
     "data": {
      "image/png": "[encoded data removed]",
      "text/plain": [
       "<Figure size 640x480 with 1 Axes>"
      ]
     },
     "metadata": {},
     "output_type": "display_data"
    }
   ],
   "source": [
    "# График распределения\n",
    "fig, ax = plt.subplots()\n",
    "\n",
    "\n",
    "x = np.linspace( mu_delta - 8.5*se, mu_delta + 8.5*se, 1000)\n",
    "y = norm.pdf(x, loc=mu_delta, scale= se)\n",
    "sns.lineplot(x=x, y=y, ax=ax)\n",
    "\n",
    "#mu delta\n",
    "ax.axvline(mu_delta, linestyle='--')\n",
    "\n",
    "#x ticks\n",
    "plt.xticks([delta, cutoff_left, mu_delta, cutoff_right])\n",
    "plt.xticks(fontsize=10)\n",
    "plt.yticks(fontsize=10)\n",
    "plt.plot(delta, 0, \"b^\", markersize=15)\n",
    "plt.text(0.0060, 110, 'Набл.', fontsize=10)\n",
    "plt.annotate(\"разница\", xy=(0.0079, 10), xytext=(0.0055, 95), \n",
    "            arrowprops={\"arrowstyle\":\"->\", \"color\":\"gray\"},\n",
    "             fontsize=10)\n",
    "\n",
    "#alpha\n",
    "alpha_x = np.linspace(cutoff_right, mu_delta + 8.5 * se, 1000)\n",
    "alpha_y = norm.pdf(alpha_x, loc = mu_delta, scale= se)\n",
    "plt.fill_between(alpha_x, alpha_y, color='red', alpha=0.5)\n",
    "\n",
    "alpha_x2 = np.linspace(mu_delta - 8.5 * se, cutoff_left, 1000)\n",
    "alpha_y2 = norm.pdf(alpha_x2, loc = mu_delta, scale= se)\n",
    "plt.fill_between(alpha_x2, alpha_y2, color='red', alpha=0.5)\n",
    "\n",
    "plt.text(-0.0055, 20, 'Alpha / 2', color='red', fontsize=10)\n",
    "plt.text(0.003, 20, 'Alpha / 2', color='red', fontsize=10)\n",
    "\n",
    "#H null\n",
    "plt.text(0.003, 360, 'Ho: (p2 - p1) = 0')\n",
    "\n",
    "#labels\n",
    "plt.xlabel('Разница пропорций (Нулевая гипотеза)')\n",
    "plt.ylabel('PDF')\n",
    "\n",
    "plt.autoscale(enable=True, axis='both', tight=True) \n"
   ]
  },
  {
   "cell_type": "markdown",
   "id": "9c3703c1",
   "metadata": {
    "id": "53J2YOxboR1_",
    "papermill": {
     "duration": 0.013364,
     "end_time": "2023-06-02T16:48:26.175172",
     "exception": false,
     "start_time": "2023-06-02T16:48:26.161808",
     "status": "completed"
    },
    "tags": []
   },
   "source": [
    "## **5.  Итог**\n",
    "\n",
    "* Тест показал статистически значимую разницу. Коэффициент конверсии у тех, кому показывали рекламу отличается от коэффициента конверсии тех, кто просто видел публичное объявление.\n",
    "\n",
    "* Однако нужно учитывать, что такая разница, такая высокая Z статистика (более 7) и такая низкая стандратная ошибка (0.001) во многом были достигнуты за счет очень большого размера выборок (n).\n",
    "\n",
    "* Это значит, что, вполне вероятно, статистически значимая разница в 0.79 % на практике не будет иметь значения."
   ]
  }
 ],
 "metadata": {
  "kernelspec": {
   "display_name": "Python 3",
   "language": "python",
   "name": "python3"
  },
  "language_info": {
   "codemirror_mode": {
    "name": "ipython",
    "version": 3
   },
   "file_extension": ".py",
   "mimetype": "text/x-python",
   "name": "python",
   "nbconvert_exporter": "python",
   "pygments_lexer": "ipython3",
   "version": "3.10.10"
  },
  "papermill": {
   "default_parameters": {},
   "duration": 23.325949,
   "end_time": "2023-06-02T16:48:27.713615",
   "environment_variables": {},
   "exception": null,
   "input_path": "__notebook__.ipynb",
   "output_path": "__notebook__.ipynb",
   "parameters": {},
   "start_time": "2023-06-02T16:48:04.387666",
   "version": "2.4.0"
  }
 },
 "nbformat": 4,
 "nbformat_minor": 5
}
